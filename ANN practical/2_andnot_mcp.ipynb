{
 "cells": [
  {
   "cell_type": "code",
   "execution_count": 8,
   "id": "accf913d",
   "metadata": {},
   "outputs": [
    {
     "name": "stdout",
     "output_type": "stream",
     "text": [
      "Output: [0, 0, 1, 0]\n",
      "ANDNOT function is correct for all inputs!\n"
     ]
    }
   ],
   "source": [
    "def activation_function(x):\n",
    "    return 1 if x >= 0 else 0\n",
    "\n",
    "def mc_culloch_pitts_neuron(x1, x2, w1, w2, theta):\n",
    "    \"\"\"\n",
    "    McCulloch-Pitts Neuron for the ANDNOT function.\n",
    "\n",
    "    Parameters:\n",
    "    x1, x2: Inputs.\n",
    "    w1, w2: Weights.\n",
    "    theta: Threshold.\n",
    "\n",
    "    Returns:\n",
    "    Output of the neuron.\n",
    "    \"\"\"\n",
    "    # Calculate the weighted sum\n",
    "    weighted_sum = x1 * w1 + x2 * w2\n",
    "\n",
    "    # Apply the activation function\n",
    "    output = activation_function(weighted_sum - theta)\n",
    "\n",
    "    return output\n",
    "\n",
    "# Define the inputs and weights for ANDNOT\n",
    "x1 = [0, 0, 1, 1]\n",
    "x2 = [0, 1, 0, 1]\n",
    "w1 = 1\n",
    "w2 = -1\n",
    "theta = 1\n",
    "\n",
    "# Calculate the output for each input pair\n",
    "output = [mc_culloch_pitts_neuron(x1[i], x2[i], w1, w2, theta) for i in range(4)]\n",
    "\n",
    "# Define the expected output for ANDNOT\n",
    "expected_output = [0, 0, 1, 0]\n",
    "\n",
    "# Check if the output matches the expected output\n",
    "is_correct = output == expected_output\n",
    "\n",
    "# Print the results and correctness message\n",
    "print(\"Output:\", output)\n",
    "if is_correct:\n",
    "    print(\"ANDNOT function is correct for all inputs!\")\n",
    "else:\n",
    "    print(\"ANDNOT function is not correct!\")\n"
   ]
  },
  {
   "cell_type": "code",
   "execution_count": null,
   "id": "0658d2db",
   "metadata": {},
   "outputs": [],
   "source": []
  }
 ],
 "metadata": {
  "kernelspec": {
   "display_name": "Python 3 (ipykernel)",
   "language": "python",
   "name": "python3"
  },
  "language_info": {
   "codemirror_mode": {
    "name": "ipython",
    "version": 3
   },
   "file_extension": ".py",
   "mimetype": "text/x-python",
   "name": "python",
   "nbconvert_exporter": "python",
   "pygments_lexer": "ipython3",
   "version": "3.10.9"
  }
 },
 "nbformat": 4,
 "nbformat_minor": 5
}
