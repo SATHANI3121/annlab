{
 "cells": [
  {
   "cell_type": "code",
   "execution_count": 1,
   "id": "9fae2410",
   "metadata": {},
   "outputs": [
    {
     "name": "stdout",
     "output_type": "stream",
     "text": [
      "Enter one of the following numbers:  1, 2, 3, 4, 5, 6, 7, 8 , 9\n",
      "2\n",
      "The number is even.\n"
     ]
    }
   ],
   "source": [
    "import numpy as np\n",
    "\n",
    "# Define the input-output mapping\n",
    "inputs_array = np.array([[0,0,1,1,0,0,0,0],\n",
    "                      [0,0,1,1,0,0,0,1],\n",
    "                      [0,0,1,1,0,0,1,0],\n",
    "                      [0,0,1,1,0,0,1,1],\n",
    "                      [0,0,1,1,0,1,0,0],\n",
    "                      [0,0,1,1,0,1,0,1],\n",
    "                      [0,0,1,1,0,1,1,0],\n",
    "                      [0,0,1,1,0,1,1,1],\n",
    "                      [0,0,1,1,1,0,0,0],\n",
    "                      [0,0,1,1,1,0,0,1]])\n",
    "expected_output = np.array([[0],[0],[1],[0],[1],[0],[1],[0],[1],[0]])\n",
    "\n",
    "# Get user input\n",
    "while True:\n",
    "    user_input = input(\"Enter one of the following numbers:  1, 2, 3, 4, 5, 6, 7, 8 , 9\\n\")\n",
    "    if user_input.isdigit() and int(user_input) in range(9):\n",
    "        user_input = int(user_input)\n",
    "        break\n",
    "    else:\n",
    "        print(\"Invalid input. Please enter a number between 0 and 9.\")\n",
    "\n",
    "# Define weights and bias\n",
    "weights = 1\n",
    "bias = 2\n",
    "\n",
    "epoch = 15\n",
    "for j in range(epoch):\n",
    "    predicted = 0\n",
    "    sum = 0  # Reset sum for each iteration\n",
    "    for i in range(len(inputs_array[user_input])):\n",
    "        sum += inputs_array[user_input][i] * weights\n",
    "    output = sum + bias\n",
    "\n",
    "    # Step function\n",
    "    if output > 0:\n",
    "        predicted = 1\n",
    "    else:\n",
    "        predicted = 0\n",
    "\n",
    "    if expected_output[user_input] == predicted:\n",
    "        break\n",
    "    else:\n",
    "        for k in range(len(inputs_array[user_input])):\n",
    "            weights = weights + ((0.1) * (expected_output[user_input] - predicted) * inputs_array[user_input][k])\n",
    "\n",
    "# Display final output\n",
    "if user_input == 0:\n",
    "    print(\"The number 0 is neither odd nor even.\")\n",
    "elif predicted == 1:\n",
    "    print(\"The number is even.\")\n",
    "else:\n",
    "    print(\"The number is odd.\")\n"
   ]
  },
  {
   "cell_type": "code",
   "execution_count": null,
   "id": "91c3d3ad",
   "metadata": {},
   "outputs": [],
   "source": []
  }
 ],
 "metadata": {
  "kernelspec": {
   "display_name": "Python 3 (ipykernel)",
   "language": "python",
   "name": "python3"
  },
  "language_info": {
   "codemirror_mode": {
    "name": "ipython",
    "version": 3
   },
   "file_extension": ".py",
   "mimetype": "text/x-python",
   "name": "python",
   "nbconvert_exporter": "python",
   "pygments_lexer": "ipython3",
   "version": "3.10.9"
  }
 },
 "nbformat": 4,
 "nbformat_minor": 5
}
